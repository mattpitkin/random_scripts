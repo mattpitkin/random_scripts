{
 "cells": [
  {
   "cell_type": "markdown",
   "metadata": {},
   "source": [
    "# Violin plot legend\n",
    "\n",
    "This notebook shows a way that you can create a legend patch for a violin plot that looks like the violin plot itself. The method is based on [this answer](https://stackoverflow.com/a/42648286/1862861) to a [question](https://stackoverflow.com/questions/42639981/how-to-show-shapefile-label-in-python-basemap-legend) on Stack Overflow."
   ]
  },
  {
   "cell_type": "code",
   "execution_count": 1,
   "metadata": {},
   "outputs": [],
   "source": [
    "%matplotlib inline\n",
    "\n",
    "import numpy as np\n",
    "from matplotlib import pyplot as pl\n",
    "\n",
    "import matplotlib as mpl\n",
    "import matplotlib.patches as mpatches\n",
    "from matplotlib.collections import PolyCollection\n",
    "from matplotlib.path import Path"
   ]
  },
  {
   "cell_type": "code",
   "execution_count": 2,
   "metadata": {},
   "outputs": [],
   "source": [
    "# generate a 3xN array of Gaussian data\n",
    "x = np.random.randn(10000,3)\n",
    "\n",
    "# just to show some difference let's shift the second array\n",
    "x[:,1] *= 3.\n",
    "x[:,1] += 1.5\n",
    "\n",
    "# make the third array purely positive\n",
    "x[:,2] = np.abs(x[:,2])"
   ]
  },
  {
   "cell_type": "code",
   "execution_count": 3,
   "metadata": {},
   "outputs": [
    {
     "data": {
      "image/png": "[encoded data removed]",
      "text/plain": [
       "<matplotlib.figure.Figure at 0x7fdffcb32810>"
      ]
     },
     "metadata": {},
     "output_type": "display_data"
    }
   ],
   "source": [
    "mpl.rcParams['text.usetex'] = True\n",
    "mpl.rcParams['font.size'] = 22\n",
    "mpl.rcParams['font.family'] = 'Serif'\n",
    "\n",
    "# plot the data as a violin plot\n",
    "fig, ax = pl.subplots(figsize=(10,8))\n",
    "vp = ax.violinplot(x)\n",
    "\n",
    "# lets make the violin plots have different colours\n",
    "colours = ['r', 'g', 'b']\n",
    "for i, v in enumerate(vp['bodies']):\n",
    "    v.set_facecolor(colours[i])\n",
    "\n",
    "# set the Handler for the legend artist (based on https://stackoverflow.com/a/42648286/1862861)\n",
    "class HandlerViolin(object):\n",
    "    def legend_artist(self, legend, orig_handle, fontsize, handlebox):\n",
    "        x0, y0 = handlebox.xdescent, handlebox.ydescent\n",
    "        width, height = handlebox.width, handlebox.height\n",
    "        #aspect= height/float(width)\n",
    "        \n",
    "        patch = mpatches.PathPatch(orig_handle.get_paths()[0])\n",
    "        verts = patch.get_verts()\n",
    "        minx, miny = verts[:,0].min(), verts[:,1].min()\n",
    "        maxx, maxy = verts[:,0].max(), verts[:,1].max()\n",
    "        #aspect = (maxy-miny)/float((maxx-minx))\n",
    "        # set aspect ratio at 3:1\n",
    "        aspect = 3.\n",
    "\n",
    "        nvx = (verts[:,0]-minx)*float(height)/aspect/(maxx-minx)-x0\n",
    "        nvy = (verts[:,1]-miny)*float(height)/(maxy-miny)-y0\n",
    "\n",
    "        #p = Polygon(np.c_[nvx, nvy])\n",
    "        p = mpatches.PathPatch(Path(np.c_[nvx, nvy]))\n",
    "        p.set_facecolor(orig_handle.get_facecolor()[0])\n",
    "        \n",
    "        ec = orig_handle.get_edgecolor()\n",
    "        if len(ec) == 0:\n",
    "            ec = 'none'\n",
    "        p.set_edgecolor(ec)\n",
    "        p.set_transform(handlebox.get_transform())\n",
    "\n",
    "        handlebox.add_artist(p)\n",
    "        return p\n",
    "\n",
    "# set violin plot 'bodies' PolyCollection as legend handle\n",
    "handles = vp['bodies']   # plot legend for each violin (could just use one, e.g. handles = vp['bodies'][0]) \n",
    "labels = ['a', 'b', 'c'] # the legend text\n",
    "\n",
    "ax.legend(handles=handles, # legend handles\n",
    "          labels=labels,   # legend text\n",
    "          handler_map={PolyCollection: HandlerViolin()},\n",
    "          handleheight=2.5,  # height of the legend handle\n",
    "          handlelength=1,  # space between the handle and text\n",
    "          loc='upper left');"
   ]
  },
  {
   "cell_type": "code",
   "execution_count": null,
   "metadata": {},
   "outputs": [],
   "source": []
  }
 ],
 "metadata": {
  "kernelspec": {
   "display_name": "Python 2",
   "language": "python",
   "name": "python2"
  },
  "language_info": {
   "codemirror_mode": {
    "name": "ipython",
    "version": 2
   },
   "file_extension": ".py",
   "mimetype": "text/x-python",
   "name": "python",
   "nbconvert_exporter": "python",
   "pygments_lexer": "ipython2",
   "version": "2.7.12"
  },
  "toc": {
   "nav_menu": {},
   "number_sections": true,
   "sideBar": true,
   "skip_h1_title": false,
   "toc_cell": false,
   "toc_position": {},
   "toc_section_display": "block",
   "toc_window_display": false
  }
 },
 "nbformat": 4,
 "nbformat_minor": 1
}
