{
 "cells": [
  {
   "cell_type": "markdown",
   "metadata": {},
   "source": [
    "# Testing the code on simulated noise\n",
    "\n",
    "This notebook provides tests of the `lalapps_pulsar_parameter_estimation_nested` code in comparison to the older `lalapps_pulsar_parameter_estimation` code when running on fake Gaussian noise with a simulated signal injected into it. The former code uses [nested sampling](https://en.wikipedia.org/wiki/Nested_sampling_algorithm) to sample the likelihood, whilst the latter can either use MCMC sampling of the posterior, or compute the posterior explicitly over a grid of point in the parameter space.\n",
    "\n",
    "I want to examine the distribution of evidence ratio, when run on the same data, as a function of SNR, as calculated by the nested sampling code and grid-based method."
   ]
  },
  {
   "cell_type": "code",
   "execution_count": 1,
   "metadata": {
    "collapsed": false
   },
   "outputs": [],
   "source": [
    "# import required modules\n",
    "\n",
    "%matplotlib inline\n",
    "\n",
    "from __future__ import print_function, division\n",
    "\n",
    "import numpy as np\n",
    "import subprocess as sp\n",
    "import os\n",
    "import sys\n",
    "import matplotlib as mpl\n",
    "from matplotlib import pyplot as pl\n",
    "\n",
    "# these modules require lalapps\n",
    "from lalapps.pulsarpputils import *\n",
    "\n",
    "# some matplotlib configurations\n",
    "mplparams = { \\\n",
    "      'backend': 'Agg',\n",
    "      'text.usetex': True, # use LaTeX for all text\n",
    "      'axes.linewidth': 0.5, # set axes linewidths to 0.5\n",
    "      'axes.grid': True, # add a grid\n",
    "      'grid.linewidth': 0.5,\n",
    "      'font.family': 'sans-serif',\n",
    "      'font.sans-serif': 'Avant Garde, Helvetica, Computer Modern Sans serif',\n",
    "      'font.size': 15 }\n",
    "\n",
    "mpl.rcParams.update(mplparams)"
   ]
  },
  {
   "cell_type": "code",
   "execution_count": 20,
   "metadata": {
    "collapsed": true
   },
   "outputs": [],
   "source": [
    "# set up the run directories\n",
    "rundir = '.'\n",
    "if not os.path.isdir(rundir): # make the directory\n",
    "    os.makedirs(rundir)\n",
    "\n",
    "detector = 'H1'        # the detector to use\n",
    "psrname = 'J0000+0000' # a fake pulsar name\n",
    "\n",
    "# set the output directory\n",
    "outdir = os.path.join(rundir, 'output')\n",
    "if not os.path.isdir(outdir):\n",
    "    os.makedirs(outdir)\n",
    "\n",
    "# fake heterodyned data directory (for the lalapps_pulsar_parameter_estimation code\n",
    "# this must be dataDET, where DET is e.g. H1)\n",
    "datadir = os.path.join(rundir, 'data'+detector)\n",
    "if not os.path.isdir(datadir): # make the directory\n",
    "    os.makedirs(datadir)\n",
    "\n",
    "# set the executables (this assumes that you are using virtual environments with virtualenvwrapper.sh and\n",
    "# have a WORKON_HOME environment variable set, but you can change the path as required)\n",
    "virenv = 'lalapps_knope_O1' # name of your virtual environment\n",
    "execpath = os.path.join(os.environ['WORKON_HOME'], virenv)\n",
    "execpath = os.path.join(execpath, 'bin')\n",
    "\n",
    "ppenexec = os.path.join(execpath, 'lalapps_pulsar_parameter_estimation_nested')\n",
    "n2pexec = os.path.join(execpath, 'lalapps_nest2pos') # script to convert nested samples to posterior samples\n",
    "ppeexec = os.path.join(execpath, 'lalapps_pulsar_parameter_estimation')"
   ]
  },
  {
   "cell_type": "markdown",
   "metadata": {},
   "source": [
    "## Running the codes\n",
    "\n",
    "The code is run on random Gaussian noise with zero mean and a given standard deviation. I output a comparison plot between the posteriors produced for each realisation. I compare the upper limit produced from the nested-sampling-generated posterior and that calculated from the grid-based posterior. I also compare the run times for each implementation of the codes."
   ]
  },
  {
   "cell_type": "code",
   "execution_count": 21,
   "metadata": {
    "collapsed": false
   },
   "outputs": [],
   "source": [
    "# set up some general inputs\n",
    "\n",
    "# create a pulsar parameter (TEMPO-stype .par file) file format string\n",
    "pardat = \"\"\"PSRJ J0000+0000\n",
    "RAJ {}\n",
    "DECJ {}\n",
    "F0 123.4567890\n",
    "PEPOCH 56789.0\n",
    "EPHEM DE405\n",
    "\"\"\"\n",
    "\n",
    "# some defaults for the data generation\n",
    "sigma0 = 1.0e-22        # set data standard deviation\n",
    "dt = 60                # number of seconds between data points\n",
    "gpsstart = 900000000   # GPS start time of data\n",
    "duration = 864000      # duration of data (seconds) - 10 days\n",
    "gpstimes = np.arange(gpsstart, gpsstart+duration, dt) # time stamps\n",
    "dlen = len(gpstimes)   # length of data\n",
    "\n",
    "# create the signal\n",
    "pardict = {}\n",
    "pardict['h0'] = sigma0\n",
    "pardict['psi'] = 0.0     # set polarisation angle\n",
    "pardict['cosiota'] = 0.0 # set inclination\n",
    "pardict['phi0'] = 0.5    # set rotational phase\n",
    "\n",
    "# create a random sky position from a uniform distribution on the sky\n",
    "pardict['ra'] = 2.*np.pi*np.random.rand()\n",
    "pardict['dec'] = np.arccos(-1.+2.*np.random.rand()) - np.pi/2.\n",
    "\n",
    "# set the required SNR of the signal\n",
    "snrs = [25., 50., 150., 400.]\n",
    "sigmas = []\n",
    "\n",
    "# generate signal\n",
    "tssig, sig = heterodyned_pulsar_signal(gpsstart, duration, dt, detector, pardict)\n",
    "\n",
    "# calculate sigmas to use for required SNRs\n",
    "snropt = get_optimal_snr(sig[0], sigma0)\n",
    "for snr in snrs:\n",
    "    sigmas.append(sigma0*(snropt/snr))\n",
    "\n",
    "ulest = 10.8*np.sqrt(sigmas[0]**2/dlen)\n",
    "# upper range of prior\n",
    "h0max = ulest*(snrs[0]/snropt) + ulest*10.\n",
    "\n",
    "# create the prior file for the lalapps_pulsar_parameter_estimation_nested code\n",
    "# (PHI0 in here is rotational phase, whereas for the older code it is GW phase for trixial emission l=m=2)\n",
    "priorfile = os.path.join(rundir, 'pulsar.prior')\n",
    "priordat = \"\"\"H0 uniform 0 {}\n",
    "PHI0 uniform 0 {}\n",
    "PSI uniform {} {}\n",
    "COSIOTA uniform -1 1\n",
    "\"\"\"\n",
    "fp = open(priorfile, 'w')\n",
    "# set the h0 upper range to be 6 times the expected upper limit \n",
    "fp.write(priordat.format(h0max, np.pi, -np.pi/4., np.pi/4.))\n",
    "fp.close()\n",
    "\n",
    "# lalapps_pulsar_parameter_estimation_nested run parameters\n",
    "Nlive = '2048' # number of nested sample live points\n",
    "\n",
    "# lalapps_pulsar_parameter_estimation (grid) run parameters\n",
    "h0steps = '100' # number of grid points for each parameter\n",
    "psisteps = '100'\n",
    "phi0steps = '100'\n",
    "cosiotasteps = '100'\n",
    "h0maxs = '%.5e' % (h0max) # maximum range of h0 values\n",
    "h0ulc = '95'                # % credible h0 upper limit to output"
   ]
  },
  {
   "cell_type": "code",
   "execution_count": 22,
   "metadata": {
    "collapsed": false
   },
   "outputs": [],
   "source": [
    "# create data\n",
    "data = np.random.randn(dlen, 2)\n",
    "\n",
    "rah, ram, ras = rad_to_hms(pardict['ra'])\n",
    "decd, decm, decs = rad_to_dms(pardict['dec'])\n",
    "\n",
    "# output .par file containing right ascension and declination\n",
    "parfile = os.path.join(rundir, 'pulsar.par')\n",
    "fp = open(parfile, 'w')\n",
    "fp.write(pardat.format(coord_to_string(rah, ram, ras), coord_to_string(decd, decm, decs)))\n",
    "fp.close()\n",
    "\n",
    "evratsgrid = []\n",
    "evratsnest = []\n",
    "\n",
    "for sigma in sigmas:\n",
    "    # add signal to data\n",
    "    datainj = np.zeros((dlen, 2))\n",
    "    datainj[:,0] = sigma*data[:,0] + sig[0].real\n",
    "    datainj[:,1] = sigma*data[:,1] + sig[0].imag\n",
    "\n",
    "    # append times and data together\n",
    "    tad = np.vstack((gpstimes, datainj.T)).T\n",
    "\n",
    "    # output fake data\n",
    "    datafile = os.path.join(datadir, 'finehet_'+psrname+'_'+detector)\n",
    "    np.savetxt(datafile, tad, fmt='%.6f %.7e %.7e', delimiter='\\t')\n",
    "\n",
    "    # run lalapps_pulsar_parameter_estimation in grid-based mode one\n",
    "    evfile = os.path.join(outdir, 'evidence_%s' % psrname)\n",
    "    if os.path.isfile(evfile):\n",
    "        os.remove(evfile)\n",
    "\n",
    "    codecall = ' '.join(['lalapps_pulsar_parameter_estimation', '--detectors', detector,\n",
    "                         '--pulsar', psrname, '--par-file', parfile, '--input-dir', rundir,\n",
    "                         '--output-dir', outdir, '--psi-bins', '1000', '--time-bins', '1440',\n",
    "                         '--h0steps', h0steps, '--maxh0', h0maxs, '--phi0steps', phi0steps,\n",
    "                         '--psisteps', psisteps, '--cisteps', cosiotasteps, '--dob-ul', h0ulc])\n",
    "    \n",
    "    p = sp.Popen(codecall, stdout=sp.PIPE, stderr=sp.PIPE, shell=True)\n",
    "    out, err = p.communicate()\n",
    "\n",
    "    # read in evidence ratio and h0 upper limit produced by grid\n",
    "    evfile = os.path.join(outdir, 'evidence_%s' % psrname)\n",
    "    # evidence at end of first line, UL at end of second\n",
    "    fp = open(evfile, 'r')\n",
    "    evlines = fp.readlines()\n",
    "\n",
    "    evratgrid = float((evlines[0].split())[-1])\n",
    "\n",
    "    # correct evidence and lalapps_pulsar_parameter_estimation does not apply the h0 and cos(iota) priors\n",
    "    # and also account for lalapps_pulsar_parameter_estimation using a 2pi phi0 range rather than pi\n",
    "    evratsgrid.append(evratgrid - np.log(6.*ulest) - np.log(2.) + np.log(np.pi))\n",
    "    \n",
    "    evratnests = []\n",
    "    # run lalapps_pulsar_parameter_estimation_nested multiple times\n",
    "    for i in range(10):\n",
    "        codecall = ' '.join([ppenexec, '--detectors', detector,\n",
    "                             '--par-file', parfile, '--prior-file', priorfile,\n",
    "                             '--input-files', datafile, '--outfile', os.path.join(outdir, 'fake_nest.hdf'),\n",
    "                             '--Nlive', Nlive, '--Nmcmcinitial', '0', '--oldChunks'])\n",
    "        \n",
    "        p = sp.Popen(codecall, stdout=sp.PIPE, stderr=sp.PIPE, shell=True)\n",
    "        out, err = p.communicate()\n",
    "\n",
    "        # get h0 upper limit from \n",
    "        nests, evsig, evnoise = pulsar_nest_to_posterior(os.path.join(outdir, 'fake_nest.hdf'), nestedsamples=True)\n",
    "\n",
    "        evratnests.append(evsig-evnoise)\n",
    "    \n",
    "    evratsnest.append(evratnests)"
   ]
  },
  {
   "cell_type": "code",
   "execution_count": 23,
   "metadata": {
    "collapsed": false
   },
   "outputs": [
    {
     "name": "stdout",
     "output_type": "stream",
     "text": [
      "[205.38346349502294, 854.28096349502312, 5027.7580634950227, 12395.694063495022]\n"
     ]
    }
   ],
   "source": [
    "print(evratsgrid)"
   ]
  },
  {
   "cell_type": "code",
   "execution_count": 24,
   "metadata": {
    "collapsed": false
   },
   "outputs": [
    {
     "data": {
      "text/plain": [
       "[[205.01810706686229,\n",
       "  205.19116350892,\n",
       "  204.98706018156372,\n",
       "  204.94849138474092,\n",
       "  205.05741930752993,\n",
       "  205.1956875459291,\n",
       "  205.07266668532975,\n",
       "  205.08576901140623,\n",
       "  204.82877156836912,\n",
       "  205.15254969103262],\n",
       " [853.2175722613465,\n",
       "  853.37568229343742,\n",
       "  853.31200607470237,\n",
       "  853.32498388946988,\n",
       "  853.47387244040146,\n",
       "  853.19245166797191,\n",
       "  853.33458508877084,\n",
       "  853.20794522878714,\n",
       "  853.20979068847373,\n",
       "  853.14552408689633],\n",
       " [5025.6274391594343,\n",
       "  5025.5217417797539,\n",
       "  5025.4164825114422,\n",
       "  5025.4012949550524,\n",
       "  5025.472410995746,\n",
       "  5025.4155828114599,\n",
       "  5025.5507781049237,\n",
       "  5025.6401169605087,\n",
       "  5025.4155127005652,\n",
       "  5025.3309093278367],\n",
       " [12401.346637106035,\n",
       "  12401.641072367085,\n",
       "  12401.645162886241,\n",
       "  12401.653820081847,\n",
       "  12401.639094153652,\n",
       "  12401.355011141161,\n",
       "  12401.429396758787,\n",
       "  12401.510683596134,\n",
       "  12401.461746047251,\n",
       "  12401.556082375813]]"
      ]
     },
     "execution_count": 24,
     "metadata": {},
     "output_type": "execute_result"
    }
   ],
   "source": [
    "evratsnest"
   ]
  },
  {
   "cell_type": "code",
   "execution_count": 31,
   "metadata": {
    "collapsed": false
   },
   "outputs": [
    {
     "data": {
      "text/plain": [
       "[<matplotlib.lines.Line2D at 0x7fb9d1fbdc50>]"
      ]
     },
     "execution_count": 31,
     "metadata": {},
     "output_type": "execute_result"
    },
    {
     "data": {
      "image/png": "[encoded data removed]",
      "text/plain": [
       "<matplotlib.figure.Figure at 0x7fb9d1fbde10>"
      ]
     },
     "metadata": {},
     "output_type": "display_data"
    }
   ],
   "source": [
    "stds = []\n",
    "mdiffs = []\n",
    "for i, evrats in enumerate(evratsnest):\n",
    "    stds.append(np.std(evrats))\n",
    "    mdiffs.append(np.abs(np.mean(evrats)-evratsgrid[i]))\n",
    "\n",
    "pl.plot(snrs, stds, '.')\n",
    "pl.plot(snrs, mdiffs, 'ro')"
   ]
  },
  {
   "cell_type": "code",
   "execution_count": null,
   "metadata": {
    "collapsed": true
   },
   "outputs": [],
   "source": []
  }
 ],
 "metadata": {
  "kernelspec": {
   "display_name": "Python 2",
   "language": "python",
   "name": "python2"
  },
  "language_info": {
   "codemirror_mode": {
    "name": "ipython",
    "version": 2
   },
   "file_extension": ".py",
   "mimetype": "text/x-python",
   "name": "python",
   "nbconvert_exporter": "python",
   "pygments_lexer": "ipython2",
   "version": "2.7.12"
  }
 },
 "nbformat": 4,
 "nbformat_minor": 0
}
