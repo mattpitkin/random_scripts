{
 "cells": [
  {
   "cell_type": "markdown",
   "metadata": {},
   "source": [
    "# Testing the code on simulated noise\n",
    "\n",
    "This notebook provides tests of the `lalapps_pulsar_parameter_estimation_nested` code in comparison to the older `lalapps_pulsar_parameter_estimation` code when running on fake Gaussian noise with a simulated signal injected into it. The former code uses [nested sampling](https://en.wikipedia.org/wiki/Nested_sampling_algorithm) to sample the likelihood, whilst the latter can either use MCMC sampling of the posterior, or compute the posterior explicitly over a grid of point in the parameter space.\n",
    "\n",
    "I want to examine the distribution of evidence ratio, when run on the same data, as a function of SNR, as calculated by the nested sampling code and grid-based method."
   ]
  },
  {
   "cell_type": "code",
   "execution_count": 1,
   "metadata": {
    "collapsed": false
   },
   "outputs": [],
   "source": [
    "# import required modules\n",
    "\n",
    "%matplotlib inline\n",
    "\n",
    "from __future__ import print_function, division\n",
    "\n",
    "import numpy as np\n",
    "import subprocess as sp\n",
    "import os\n",
    "import sys\n",
    "import matplotlib as mpl\n",
    "from matplotlib import pyplot as pl\n",
    "\n",
    "# these modules require lalapps\n",
    "from lalapps.pulsarpputils import *\n",
    "\n",
    "# some matplotlib configurations\n",
    "mplparams = { \\\n",
    "      'backend': 'Agg',\n",
    "      'text.usetex': True, # use LaTeX for all text\n",
    "      'axes.linewidth': 0.5, # set axes linewidths to 0.5\n",
    "      'axes.grid': True, # add a grid\n",
    "      'grid.linewidth': 0.5,\n",
    "      'font.family': 'sans-serif',\n",
    "      'font.sans-serif': 'Avant Garde, Helvetica, Computer Modern Sans serif',\n",
    "      'font.size': 15 }\n",
    "\n",
    "mpl.rcParams.update(mplparams)"
   ]
  },
  {
   "cell_type": "code",
   "execution_count": 2,
   "metadata": {
    "collapsed": true
   },
   "outputs": [],
   "source": [
    "# set up the run directories\n",
    "rundir = '.'\n",
    "if not os.path.isdir(rundir): # make the directory\n",
    "    os.makedirs(rundir)\n",
    "\n",
    "detector = 'H1'        # the detector to use\n",
    "psrname = 'J0000+0000' # a fake pulsar name\n",
    "\n",
    "# set the output directory\n",
    "outdir = os.path.join(rundir, 'output')\n",
    "if not os.path.isdir(outdir):\n",
    "    os.makedirs(outdir)\n",
    "\n",
    "# fake heterodyned data directory (for the lalapps_pulsar_parameter_estimation code\n",
    "# this must be dataDET, where DET is e.g. H1)\n",
    "datadir = os.path.join(rundir, 'data'+detector)\n",
    "if not os.path.isdir(datadir): # make the directory\n",
    "    os.makedirs(datadir)\n",
    "\n",
    "# set the executables (this assumes that you are using virtual environments with virtualenvwrapper.sh and\n",
    "# have a WORKON_HOME environment variable set, but you can change the path as required)\n",
    "virenv = 'lalapps_knope_O1' # name of your virtual environment\n",
    "execpath = os.path.join(os.environ['WORKON_HOME'], virenv)\n",
    "execpath = os.path.join(execpath, 'bin')\n",
    "\n",
    "ppenexec = os.path.join(execpath, 'lalapps_pulsar_parameter_estimation_nested')\n",
    "n2pexec = os.path.join(execpath, 'lalapps_nest2pos') # script to convert nested samples to posterior samples\n",
    "ppeexec = os.path.join(execpath, 'lalapps_pulsar_parameter_estimation')"
   ]
  },
  {
   "cell_type": "markdown",
   "metadata": {},
   "source": [
    "## Running the codes\n",
    "\n",
    "The code is run on random Gaussian noise with zero mean and a given standard deviation. I output a comparison plot between the posteriors produced for each realisation. I compare the upper limit produced from the nested-sampling-generated posterior and that calculated from the grid-based posterior. I also compare the run times for each implementation of the codes."
   ]
  },
  {
   "cell_type": "code",
   "execution_count": 3,
   "metadata": {
    "collapsed": false
   },
   "outputs": [],
   "source": [
    "# set up some general inputs\n",
    "\n",
    "# create a pulsar parameter (TEMPO-stype .par file) file format string\n",
    "pardat = \"\"\"PSRJ J0000+0000\n",
    "RAJ {}\n",
    "DECJ {}\n",
    "F0 123.4567890\n",
    "PEPOCH 56789.0\n",
    "EPHEM DE405\n",
    "\"\"\"\n",
    "\n",
    "# some defaults for the data generation\n",
    "sigma0 = 1.0e-22        # set data standard deviation\n",
    "dt = 60                # number of seconds between data points\n",
    "gpsstart = 900000000   # GPS start time of data\n",
    "duration = 864000      # duration of data (seconds) - 10 days\n",
    "gpstimes = np.arange(gpsstart, gpsstart+duration, dt) # time stamps\n",
    "dlen = len(gpstimes)   # length of data\n",
    "\n",
    "# create the signal\n",
    "pardict = {}\n",
    "pardict['h0'] = sigma0\n",
    "pardict['psi'] = 0.0     # set polarisation angle\n",
    "pardict['cosiota'] = 0.0 # set inclination\n",
    "pardict['phi0'] = 0.5    # set rotational phase\n",
    "\n",
    "# create a random sky position from a uniform distribution on the sky\n",
    "pardict['ra'] = 2.*np.pi*np.random.rand()\n",
    "pardict['dec'] = np.arccos(-1.+2.*np.random.rand()) - np.pi/2.\n",
    "\n",
    "# set the required SNR of the signal\n",
    "snrs = [25., 50., 150., 200., 300., 400., 500.]\n",
    "sigmas = []\n",
    "\n",
    "# generate signal\n",
    "tssig, sig = heterodyned_pulsar_signal(gpsstart, duration, dt, detector, pardict)\n",
    "\n",
    "# calculate sigmas to use for required SNRs\n",
    "snropt = get_optimal_snr(sig[0], sigma0)\n",
    "for snr in snrs:\n",
    "    sigmas.append(sigma0*(snropt/snr))\n",
    "\n",
    "ulest = 10.8*np.sqrt(sigmas[0]**2/dlen)\n",
    "# upper range of prior\n",
    "h0max = ulest*(snrs[0]/snropt) + ulest*10.\n",
    "\n",
    "# create the prior file for the lalapps_pulsar_parameter_estimation_nested code\n",
    "# (PHI0 in here is rotational phase, whereas for the older code it is GW phase for trixial emission l=m=2)\n",
    "priorfile = os.path.join(rundir, 'pulsar.prior')\n",
    "priordat = \"\"\"H0 uniform 0 {}\n",
    "PHI0 uniform 0 {}\n",
    "PSI uniform {} {}\n",
    "COSIOTA uniform -1 1\n",
    "\"\"\"\n",
    "fp = open(priorfile, 'w')\n",
    "# set the h0 upper range to be 6 times the expected upper limit \n",
    "fp.write(priordat.format(h0max, np.pi, -np.pi/4., np.pi/4.))\n",
    "fp.close()\n",
    "\n",
    "# lalapps_pulsar_parameter_estimation_nested run parameters\n",
    "Nlive = '512' # number of nested sample live points\n",
    "\n",
    "# lalapps_pulsar_parameter_estimation (grid) run parameters\n",
    "h0steps = '130' # number of grid points for each parameter\n",
    "psisteps = '130'\n",
    "phi0steps = '130'\n",
    "cosiotasteps = '130'\n",
    "h0maxs = '%.5e' % (h0max) # maximum range of h0 values\n",
    "h0ulc = '95'                # % credible h0 upper limit to output"
   ]
  },
  {
   "cell_type": "code",
   "execution_count": 4,
   "metadata": {
    "collapsed": false
   },
   "outputs": [
    {
     "ename": "KeyboardInterrupt",
     "evalue": "",
     "output_type": "error",
     "traceback": [
      "\u001b[1;31m---------------------------------------------------------------------------\u001b[0m",
      "\u001b[1;31mKeyboardInterrupt\u001b[0m                         Traceback (most recent call last)",
      "\u001b[1;32m<ipython-input-4-77d4dfc67a49>\u001b[0m in \u001b[0;36m<module>\u001b[1;34m()\u001b[0m\n\u001b[0;32m     39\u001b[0m \u001b[1;33m\u001b[0m\u001b[0m\n\u001b[0;32m     40\u001b[0m     \u001b[0mp\u001b[0m \u001b[1;33m=\u001b[0m \u001b[0msp\u001b[0m\u001b[1;33m.\u001b[0m\u001b[0mPopen\u001b[0m\u001b[1;33m(\u001b[0m\u001b[0mcodecall\u001b[0m\u001b[1;33m,\u001b[0m \u001b[0mstdout\u001b[0m\u001b[1;33m=\u001b[0m\u001b[0msp\u001b[0m\u001b[1;33m.\u001b[0m\u001b[0mPIPE\u001b[0m\u001b[1;33m,\u001b[0m \u001b[0mstderr\u001b[0m\u001b[1;33m=\u001b[0m\u001b[0msp\u001b[0m\u001b[1;33m.\u001b[0m\u001b[0mPIPE\u001b[0m\u001b[1;33m,\u001b[0m \u001b[0mshell\u001b[0m\u001b[1;33m=\u001b[0m\u001b[0mTrue\u001b[0m\u001b[1;33m)\u001b[0m\u001b[1;33m\u001b[0m\u001b[0m\n\u001b[1;32m---> 41\u001b[1;33m     \u001b[0mout\u001b[0m\u001b[1;33m,\u001b[0m \u001b[0merr\u001b[0m \u001b[1;33m=\u001b[0m \u001b[0mp\u001b[0m\u001b[1;33m.\u001b[0m\u001b[0mcommunicate\u001b[0m\u001b[1;33m(\u001b[0m\u001b[1;33m)\u001b[0m\u001b[1;33m\u001b[0m\u001b[0m\n\u001b[0m\u001b[0;32m     42\u001b[0m \u001b[1;33m\u001b[0m\u001b[0m\n\u001b[0;32m     43\u001b[0m     \u001b[1;31m# read in evidence ratio and h0 upper limit produced by grid\u001b[0m\u001b[1;33m\u001b[0m\u001b[1;33m\u001b[0m\u001b[0m\n",
      "\u001b[1;32m/usr/lib/python2.7/subprocess.pyc\u001b[0m in \u001b[0;36mcommunicate\u001b[1;34m(self, input)\u001b[0m\n\u001b[0;32m    798\u001b[0m             \u001b[1;32mreturn\u001b[0m \u001b[1;33m(\u001b[0m\u001b[0mstdout\u001b[0m\u001b[1;33m,\u001b[0m \u001b[0mstderr\u001b[0m\u001b[1;33m)\u001b[0m\u001b[1;33m\u001b[0m\u001b[0m\n\u001b[0;32m    799\u001b[0m \u001b[1;33m\u001b[0m\u001b[0m\n\u001b[1;32m--> 800\u001b[1;33m         \u001b[1;32mreturn\u001b[0m \u001b[0mself\u001b[0m\u001b[1;33m.\u001b[0m\u001b[0m_communicate\u001b[0m\u001b[1;33m(\u001b[0m\u001b[0minput\u001b[0m\u001b[1;33m)\u001b[0m\u001b[1;33m\u001b[0m\u001b[0m\n\u001b[0m\u001b[0;32m    801\u001b[0m \u001b[1;33m\u001b[0m\u001b[0m\n\u001b[0;32m    802\u001b[0m \u001b[1;33m\u001b[0m\u001b[0m\n",
      "\u001b[1;32m/usr/lib/python2.7/subprocess.pyc\u001b[0m in \u001b[0;36m_communicate\u001b[1;34m(self, input)\u001b[0m\n\u001b[0;32m   1415\u001b[0m \u001b[1;33m\u001b[0m\u001b[0m\n\u001b[0;32m   1416\u001b[0m             \u001b[1;32mif\u001b[0m \u001b[0m_has_poll\u001b[0m\u001b[1;33m:\u001b[0m\u001b[1;33m\u001b[0m\u001b[0m\n\u001b[1;32m-> 1417\u001b[1;33m                 \u001b[0mstdout\u001b[0m\u001b[1;33m,\u001b[0m \u001b[0mstderr\u001b[0m \u001b[1;33m=\u001b[0m \u001b[0mself\u001b[0m\u001b[1;33m.\u001b[0m\u001b[0m_communicate_with_poll\u001b[0m\u001b[1;33m(\u001b[0m\u001b[0minput\u001b[0m\u001b[1;33m)\u001b[0m\u001b[1;33m\u001b[0m\u001b[0m\n\u001b[0m\u001b[0;32m   1418\u001b[0m             \u001b[1;32melse\u001b[0m\u001b[1;33m:\u001b[0m\u001b[1;33m\u001b[0m\u001b[0m\n\u001b[0;32m   1419\u001b[0m                 \u001b[0mstdout\u001b[0m\u001b[1;33m,\u001b[0m \u001b[0mstderr\u001b[0m \u001b[1;33m=\u001b[0m \u001b[0mself\u001b[0m\u001b[1;33m.\u001b[0m\u001b[0m_communicate_with_select\u001b[0m\u001b[1;33m(\u001b[0m\u001b[0minput\u001b[0m\u001b[1;33m)\u001b[0m\u001b[1;33m\u001b[0m\u001b[0m\n",
      "\u001b[1;32m/usr/lib/python2.7/subprocess.pyc\u001b[0m in \u001b[0;36m_communicate_with_poll\u001b[1;34m(self, input)\u001b[0m\n\u001b[0;32m   1469\u001b[0m             \u001b[1;32mwhile\u001b[0m \u001b[0mfd2file\u001b[0m\u001b[1;33m:\u001b[0m\u001b[1;33m\u001b[0m\u001b[0m\n\u001b[0;32m   1470\u001b[0m                 \u001b[1;32mtry\u001b[0m\u001b[1;33m:\u001b[0m\u001b[1;33m\u001b[0m\u001b[0m\n\u001b[1;32m-> 1471\u001b[1;33m                     \u001b[0mready\u001b[0m \u001b[1;33m=\u001b[0m \u001b[0mpoller\u001b[0m\u001b[1;33m.\u001b[0m\u001b[0mpoll\u001b[0m\u001b[1;33m(\u001b[0m\u001b[1;33m)\u001b[0m\u001b[1;33m\u001b[0m\u001b[0m\n\u001b[0m\u001b[0;32m   1472\u001b[0m                 \u001b[1;32mexcept\u001b[0m \u001b[0mselect\u001b[0m\u001b[1;33m.\u001b[0m\u001b[0merror\u001b[0m\u001b[1;33m,\u001b[0m \u001b[0me\u001b[0m\u001b[1;33m:\u001b[0m\u001b[1;33m\u001b[0m\u001b[0m\n\u001b[0;32m   1473\u001b[0m                     \u001b[1;32mif\u001b[0m \u001b[0me\u001b[0m\u001b[1;33m.\u001b[0m\u001b[0margs\u001b[0m\u001b[1;33m[\u001b[0m\u001b[1;36m0\u001b[0m\u001b[1;33m]\u001b[0m \u001b[1;33m==\u001b[0m \u001b[0merrno\u001b[0m\u001b[1;33m.\u001b[0m\u001b[0mEINTR\u001b[0m\u001b[1;33m:\u001b[0m\u001b[1;33m\u001b[0m\u001b[0m\n",
      "\u001b[1;31mKeyboardInterrupt\u001b[0m: "
     ]
    }
   ],
   "source": [
    "# create data\n",
    "data = np.random.randn(dlen, 2)\n",
    "\n",
    "rah, ram, ras = rad_to_hms(pardict['ra'])\n",
    "decd, decm, decs = rad_to_dms(pardict['dec'])\n",
    "\n",
    "# output .par file containing right ascension and declination\n",
    "parfile = os.path.join(rundir, 'pulsar.par')\n",
    "fp = open(parfile, 'w')\n",
    "fp.write(pardat.format(coord_to_string(rah, ram, ras), coord_to_string(decd, decm, decs)))\n",
    "fp.close()\n",
    "\n",
    "evratsgrid = []\n",
    "evratsnest = []\n",
    "\n",
    "for sigma in sigmas:\n",
    "    # add signal to data\n",
    "    datainj = np.zeros((dlen, 2))\n",
    "    datainj[:,0] = sigma*data[:,0] + sig[0].real\n",
    "    datainj[:,1] = sigma*data[:,1] + sig[0].imag\n",
    "\n",
    "    # append times and data together\n",
    "    tad = np.vstack((gpstimes, datainj.T)).T\n",
    "\n",
    "    # output fake data\n",
    "    datafile = os.path.join(datadir, 'finehet_'+psrname+'_'+detector)\n",
    "    np.savetxt(datafile, tad, fmt='%.6f %.7e %.7e', delimiter='\\t')\n",
    "\n",
    "    # run lalapps_pulsar_parameter_estimation in grid-based mode one\n",
    "    evfile = os.path.join(outdir, 'evidence_%s' % psrname)\n",
    "    if os.path.isfile(evfile):\n",
    "        os.remove(evfile)\n",
    "\n",
    "    codecall = ' '.join(['lalapps_pulsar_parameter_estimation', '--detectors', detector,\n",
    "                         '--pulsar', psrname, '--par-file', parfile, '--input-dir', rundir,\n",
    "                         '--output-dir', outdir, '--psi-bins', '1000', '--time-bins', '1440',\n",
    "                         '--h0steps', h0steps, '--maxh0', h0maxs, '--phi0steps', phi0steps,\n",
    "                         '--psisteps', psisteps, '--cisteps', cosiotasteps, '--dob-ul', h0ulc])\n",
    "    \n",
    "    p = sp.Popen(codecall, stdout=sp.PIPE, stderr=sp.PIPE, shell=True)\n",
    "    out, err = p.communicate()\n",
    "\n",
    "    # read in evidence ratio and h0 upper limit produced by grid\n",
    "    evfile = os.path.join(outdir, 'evidence_%s' % psrname)\n",
    "    # evidence at end of first line, UL at end of second\n",
    "    fp = open(evfile, 'r')\n",
    "    evlines = fp.readlines()\n",
    "\n",
    "    evratgrid = float((evlines[0].split())[-1])\n",
    "\n",
    "    # correct evidence and lalapps_pulsar_parameter_estimation does not apply the h0 and cos(iota) priors\n",
    "    # and also account for lalapps_pulsar_parameter_estimation using a 2pi phi0 range rather than pi\n",
    "    evratsgrid.append(evratgrid - np.log(6.*ulest) - np.log(2.) + np.log(np.pi))\n",
    "    \n",
    "    evratnests = []\n",
    "    # run lalapps_pulsar_parameter_estimation_nested multiple times\n",
    "    for i in range(10):\n",
    "        codecall = ' '.join([ppenexec, '--detectors', detector,\n",
    "                             '--par-file', parfile, '--prior-file', priorfile,\n",
    "                             '--input-files', datafile, '--outfile', os.path.join(outdir, 'fake_nest.hdf'),\n",
    "                             '--Nlive', Nlive, '--Nmcmcinitial', '0', '--oldChunks'])\n",
    "        \n",
    "        p = sp.Popen(codecall, stdout=sp.PIPE, stderr=sp.PIPE, shell=True)\n",
    "        out, err = p.communicate()\n",
    "\n",
    "        # get h0 upper limit from \n",
    "        nests, evsig, evnoise = pulsar_nest_to_posterior(os.path.join(outdir, 'fake_nest.hdf'), nestedsamples=True)\n",
    "\n",
    "        evratnests.append(evsig-evnoise)\n",
    "    \n",
    "    evratsnest.append(evratnests)"
   ]
  },
  {
   "cell_type": "code",
   "execution_count": 5,
   "metadata": {
    "collapsed": false
   },
   "outputs": [
    {
     "name": "stdout",
     "output_type": "stream",
     "text": [
      "[181.61998111620485, 712.63328111620501, 3950.0889811162046, 5405.3789811162051, 7614.5239811162046]\n"
     ]
    }
   ],
   "source": [
    "print(evratsgrid)"
   ]
  },
  {
   "cell_type": "code",
   "execution_count": 6,
   "metadata": {
    "collapsed": false
   },
   "outputs": [
    {
     "data": {
      "text/plain": [
       "[[180.96466924645938,\n",
       "  181.16273116017692,\n",
       "  181.5108928012196,\n",
       "  181.31846143328585,\n",
       "  181.37339962017722,\n",
       "  181.5527391184587,\n",
       "  181.56807914865203,\n",
       "  181.14309608144686,\n",
       "  181.60841124295257,\n",
       "  181.38118306268007],\n",
       " [712.37394970655441,\n",
       "  711.85247607110068,\n",
       "  712.25545572931878,\n",
       "  712.17121986066923,\n",
       "  711.95881970738992,\n",
       "  712.25472901784815,\n",
       "  712.05133636225946,\n",
       "  712.19881120650098,\n",
       "  712.05824743048288,\n",
       "  711.80885423324071],\n",
       " [3949.6055477736518,\n",
       "  3950.4669290436432,\n",
       "  3949.5337440615986,\n",
       "  3949.9433555738069,\n",
       "  3949.8854550293181,\n",
       "  3950.1781587682199,\n",
       "  3949.9417654857971,\n",
       "  3950.3277135659009,\n",
       "  3950.2664617127739,\n",
       "  3949.8547206136864],\n",
       " [5406.4128035327885,\n",
       "  5405.7594876603689,\n",
       "  5406.4531131042168,\n",
       "  5406.3169300849549,\n",
       "  5406.227239705855,\n",
       "  5406.1606504311785,\n",
       "  5406.0382034513168,\n",
       "  5405.9305575613398,\n",
       "  5406.0717475279234,\n",
       "  5405.8090921123512],\n",
       " [7617.3872757274657,\n",
       "  7617.0418413572479,\n",
       "  7617.4184168616775,\n",
       "  7617.2979214191437,\n",
       "  7617.5868170193862,\n",
       "  7617.9508146829903,\n",
       "  7617.1953483910765,\n",
       "  7617.3886350451503,\n",
       "  7617.6342159118503,\n",
       "  7617.2330778422765]]"
      ]
     },
     "execution_count": 6,
     "metadata": {},
     "output_type": "execute_result"
    }
   ],
   "source": [
    "evratsnest"
   ]
  },
  {
   "cell_type": "code",
   "execution_count": 8,
   "metadata": {
    "collapsed": false
   },
   "outputs": [
    {
     "data": {
      "text/plain": [
       "[<matplotlib.lines.Line2D at 0x7fe25977f150>]"
      ]
     },
     "execution_count": 8,
     "metadata": {},
     "output_type": "execute_result"
    },
    {
     "data": {
      "image/png": "[encoded data removed]",
      "text/plain": [
       "<matplotlib.figure.Figure at 0x7fe25977f110>"
      ]
     },
     "metadata": {},
     "output_type": "display_data"
    }
   ],
   "source": [
    "stds = []\n",
    "mdiffs = []\n",
    "for i, evrats in enumerate(evratsnest):\n",
    "    stds.append(np.std(evrats))\n",
    "    mdiffs.append(np.abs(np.mean(evrats)-evratsgrid[i]))\n",
    "\n",
    "pl.plot(snrs[0:5], stds, '.')\n",
    "pl.plot(snrs[0:5], mdiffs, 'ro')"
   ]
  },
  {
   "cell_type": "code",
   "execution_count": 9,
   "metadata": {
    "collapsed": false
   },
   "outputs": [
    {
     "data": {
      "text/plain": [
       "[0.20236052657919237,\n",
       " 0.17551160901079776,\n",
       " 0.29016779277893201,\n",
       " 0.22806404642256195,\n",
       " 0.24503516474784295]"
      ]
     },
     "execution_count": 9,
     "metadata": {},
     "output_type": "execute_result"
    }
   ],
   "source": [
    "stds"
   ]
  },
  {
   "cell_type": "code",
   "execution_count": null,
   "metadata": {
    "collapsed": true
   },
   "outputs": [],
   "source": []
  }
 ],
 "metadata": {
  "kernelspec": {
   "display_name": "Python 2",
   "language": "python",
   "name": "python2"
  },
  "language_info": {
   "codemirror_mode": {
    "name": "ipython",
    "version": 2
   },
   "file_extension": ".py",
   "mimetype": "text/x-python",
   "name": "python",
   "nbconvert_exporter": "python",
   "pygments_lexer": "ipython2",
   "version": "2.7.12"
  }
 },
 "nbformat": 4,
 "nbformat_minor": 0
}
