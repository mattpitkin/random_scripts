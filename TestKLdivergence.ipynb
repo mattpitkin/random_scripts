{
 "cells": [
  {
   "cell_type": "code",
   "execution_count": 11,
   "metadata": {
    "collapsed": true
   },
   "outputs": [],
   "source": [
    "%matplotlib inline\n",
    "\n",
    "from __future__ import print_function, division\n",
    "\n",
    "import numpy as np\n",
    "import matplotlib as mpl\n",
    "from matplotlib import pyplot as pl\n",
    "import sys\n",
    "from scipy.misc import logsumexp"
   ]
  },
  {
   "cell_type": "code",
   "execution_count": 12,
   "metadata": {
    "collapsed": true
   },
   "outputs": [],
   "source": [
    "def logtrapz(lnf, dx):\n",
    "    return np.log(dx/2.) + logsumexp([logsumexp(lnf[:-1]), logsumexp(lnf[1:])])"
   ]
  },
  {
   "cell_type": "code",
   "execution_count": 89,
   "metadata": {
    "collapsed": false
   },
   "outputs": [],
   "source": [
    "from scipy.special import erf\n",
    "\n",
    "ndp = 10\n",
    "\n",
    "#hs = [0.001, 0.01, 0.1, 1., 10., 20., 50.]\n",
    "h = 10.\n",
    "\n",
    "sigmas = [0.1, 1., 5., 10.]\n",
    "\n",
    "C = 100.\n",
    "hvals = np.linspace(0., C, 5000)\n",
    "\n",
    "kldivs = []\n",
    "#for h in hs:\n",
    "for sigma in sigmas:\n",
    "    #sigma = 1.\n",
    "    d = h + sigma*np.random.randn(10)\n",
    "\n",
    "    loglike = np.zeros((len(hvals),))\n",
    "    for dval in d:\n",
    "        loglike = loglike - (0.5*(dval-hvals)**2/sigma**2) - 0.5*np.log(2.*np.pi*sigma**2)\n",
    "\n",
    "    logprior = -np.log(C)\n",
    "    logevd = logtrapz(loglike+logprior, hvals[1]-hvals[0])\n",
    "    logpost = loglike+logprior-logevd\n",
    "\n",
    "    #ev = 0.5*(erf(0.5*np.sqrt(2.)*d/sigma) + erf(0.5*np.sqrt(2.)*(C-d)/sigma))\n",
    "\n",
    "    kldivergence = np.sum(np.exp(logpost)*(logpost-logprior))\n",
    "    kldivs.append(kldivergence)\n",
    "    \n",
    "#print(logevd, file=sys.stdout)\n",
    "#print(kldivergence, file=sys.stdout)"
   ]
  },
  {
   "cell_type": "code",
   "execution_count": 91,
   "metadata": {
    "collapsed": false
   },
   "outputs": [
    {
     "data": {
      "text/plain": [
       "[<matplotlib.lines.Line2D at 0x7f64f053c810>]"
      ]
     },
     "execution_count": 91,
     "metadata": {},
     "output_type": "execute_result"
    },
    {
     "data": {
      "image/png": "[encoded data removed]",
      "text/plain": [
       "<matplotlib.figure.Figure at 0x7f64f1273390>"
      ]
     },
     "metadata": {},
     "output_type": "display_data"
    }
   ],
   "source": [
    "#pl.semilogx(hs, kldivs)\n",
    "pl.plot(sigmas, kldivs)"
   ]
  },
  {
   "cell_type": "code",
   "execution_count": 34,
   "metadata": {
    "collapsed": true
   },
   "outputs": [],
   "source": [
    "from sympy import *"
   ]
  },
  {
   "cell_type": "code",
   "execution_count": 36,
   "metadata": {
    "collapsed": false
   },
   "outputs": [
    {
     "data": {
      "text/plain": [
       "z*erf(sqrt(2)*x/(2*z))/(2*sqrt(z**2)) + z*erf(sqrt(2)*(-x + 100)/(2*z))/(2*sqrt(z**2))"
      ]
     },
     "execution_count": 36,
     "metadata": {},
     "output_type": "execute_result"
    }
   ],
   "source": [
    "x, y, z = symbols('x y z')\n",
    "integrate(exp(-(x-y)**2/(2*z**2))/sqrt(2*pi*z**2), (y, 0, 100))"
   ]
  },
  {
   "cell_type": "code",
   "execution_count": null,
   "metadata": {
    "collapsed": true
   },
   "outputs": [],
   "source": []
  }
 ],
 "metadata": {
  "kernelspec": {
   "display_name": "Python 2",
   "language": "python",
   "name": "python2"
  },
  "language_info": {
   "codemirror_mode": {
    "name": "ipython",
    "version": 2
   },
   "file_extension": ".py",
   "mimetype": "text/x-python",
   "name": "python",
   "nbconvert_exporter": "python",
   "pygments_lexer": "ipython2",
   "version": "2.7.12"
  }
 },
 "nbformat": 4,
 "nbformat_minor": 0
}
