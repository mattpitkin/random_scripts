{
 "cells": [
  {
   "cell_type": "code",
   "execution_count": 28,
   "id": "5cf1e5d7",
   "metadata": {},
   "outputs": [],
   "source": [
    "%matplotlib inline\n",
    "from matplotlib import pyplot as plt\n",
    "\n",
    "import numpy as np\n",
    "import pandas as pd\n",
    "\n",
    "\n",
    "class Node:\n",
    "    def __init__(self, X, y, parent=None):\n",
    "        # set y-values\n",
    "        self.y = y\n",
    "\n",
    "        # set other parameter names\n",
    "        self.colnames = [col for col in X.columns if col != self.y.name]\n",
    "        \n",
    "        # set X values\n",
    "        self.X = X[self.colnames]\n",
    "        \n",
    "        # get unique categories/labels in y\n",
    "        self.categories = set(self.y)\n",
    "        \n",
    "        # initialise is_leaf to False or True if only one category\n",
    "        self.is_leaf = False if len(self.categories) > 1 else True\n",
    "        \n",
    "        # get numbers in each category\n",
    "        self.numbers = [np.sum(self.y == c) for c in self.categories]\n",
    "        \n",
    "        # set parent\n",
    "        self.parent = parent\n",
    "        \n",
    "        # empty list of children\n",
    "        self.children = []\n",
    "        \n",
    "        # calculate entropy\n",
    "        self.entropy = self.get_entropy(self.y)\n",
    "        \n",
    "        # return if already a leaf node\n",
    "        if self.is_leaf:\n",
    "            return\n",
    "        \n",
    "        # calculate the max information gain across each parameter\n",
    "        self.H = {}\n",
    "        Hmax = -np.inf\n",
    "        for col in self.colnames:\n",
    "            H = self.information_gain(col, self.entropy)\n",
    "            imax = np.argmax(H)\n",
    "            self.H[col] = {\n",
    "                \"splitvalue\": self.X[col].iloc[imax],\n",
    "                \"Hmax\": H[imax],\n",
    "            }\n",
    "\n",
    "            if H[imax] > Hmax:\n",
    "                Hmax = H[imax]\n",
    "                \n",
    "                # set parameter with maximum information gain\n",
    "                self.Hmaxparam = col\n",
    "\n",
    "    def __str__(self):\n",
    "        if self.is_leaf:\n",
    "            return f\"Leaf: target class='{self.classification}'\"\n",
    "        else:\n",
    "            return f\"Node:\\n\\tleft: {self.Hmaxparam} <= {self.H[self.Hmaxparam]['splitvalue']}\\n\\tright: {self.Hmaxparam} > {self.H[self.Hmaxparam]['splitvalue']}\"\n",
    "\n",
    "    def __repr__(self):\n",
    "        return str(self)\n",
    "\n",
    "    def __len__(self):\n",
    "        return len(self.y)\n",
    "\n",
    "    @property\n",
    "    def depth(self):\n",
    "        \"\"\"\n",
    "        Depth of the node, i.e., how many parents\n",
    "        \"\"\"\n",
    "        \n",
    "        depth = 0\n",
    "        parent = self.parent\n",
    "        while parent is not None:\n",
    "            depth += 1\n",
    "            parent = parent.parent\n",
    "        \n",
    "        return depth\n",
    "\n",
    "    @staticmethod\n",
    "    def get_entropy(y):\n",
    "        \"\"\"\n",
    "        Calculate entropy for the node.\n",
    "\n",
    "        Parameters\n",
    "        ----------\n",
    "        y: array_like\n",
    "            The array of categories/labels.\n",
    "\n",
    "        Returns\n",
    "        -------\n",
    "        Z: float\n",
    "            Entropy of node.\n",
    "        \"\"\"\n",
    "\n",
    "        # number of items for each category\n",
    "        nums = [np.sum(y == c) for c in set(y)]\n",
    "\n",
    "        # total number of points in node\n",
    "        N = len(y)\n",
    "    \n",
    "        # calculate entropy\n",
    "        Z = -np.sum([(n / N) * np.log2(n / N) for n in nums])\n",
    "\n",
    "        return Z\n",
    "\n",
    "    def information_gain(self, parameter, pentropy):\n",
    "        \"\"\"\n",
    "        Determine the information gain when splitting at each\n",
    "        value of a given parameter.\n",
    "\n",
    "        Parameters\n",
    "        ----------\n",
    "        parameter: str\n",
    "            The name of the parameter on which to calculate the\n",
    "            information gain.\n",
    "        pentropy: float\n",
    "            Parent node entropy.\n",
    "        \"\"\"\n",
    "\n",
    "        N = len(self)\n",
    "        H = np.zeros(N)\n",
    "\n",
    "        # loop over different split values\n",
    "        for i, sv in enumerate(self.X[parameter]):\n",
    "            # truth array for split condition\n",
    "            condition = self.X[parameter] <= sv\n",
    "            ncondition = ~condition\n",
    "\n",
    "            # entropy below split\n",
    "            Zbelow = self.get_entropy(self.y[condition])\n",
    "\n",
    "            # entropy above split\n",
    "            Zabove = self.get_entropy(self.y[ncondition])\n",
    "\n",
    "            # weighted entropy for each side of node\n",
    "            weightedZ = (\n",
    "                (np.sum(condition) / N) * Zbelow + \n",
    "                (np.sum(ncondition) / N) * Zabove\n",
    "            )\n",
    "\n",
    "            # calculate information gain\n",
    "            H[i] = pentropy - weightedZ\n",
    "\n",
    "        return H\n",
    "    \n",
    "    @property\n",
    "    def classification(self):\n",
    "        # get most probable value for classificatoin\n",
    "        idx = np.argmax(self.numbers)\n",
    "        lc = list(self.categories)\n",
    "\n",
    "        return lc[idx]\n",
    "\n",
    "    @property\n",
    "    def has_children(self):\n",
    "        return True if len(self.children) > 0 else False\n",
    "\n",
    "    def add_child(self, child):\n",
    "        self.children.append(child)\n",
    "\n",
    "\n",
    "def build_tree(X, yname, min_leaf_points=5, max_depth=np.inf):\n",
    "    # list containing the tree\n",
    "    treenodes = []\n",
    "\n",
    "    treenodes.append(Node(X, X[yname]))\n",
    "    \n",
    "    # build tree\n",
    "    while True:\n",
    "        # find end node with maximum entropy\n",
    "        endnodes = [node for node in treenodes if not node.is_leaf and not node.has_children]\n",
    "        idx = np.argmax([node.entropy for node in endnodes])\n",
    "\n",
    "        # create new node with split\n",
    "        parent = endnodes[idx]\n",
    "\n",
    "        low = parent.X[parent.Hmaxparam] <= parent.H[parent.Hmaxparam][\"splitvalue\"]\n",
    "        high = ~low\n",
    "        \n",
    "        for ci in [low, high]:\n",
    "            newnode = Node(\n",
    "                parent.X[ci],\n",
    "                parent.y[ci],\n",
    "                parent=parent,\n",
    "            )\n",
    "            \n",
    "            # set when we hit a leaf\n",
    "            if len(newnode) < min_leaf_points or newnode.depth > max_depth:\n",
    "                parent.is_leaf = True\n",
    "                parent.children = []  # make sure children is empty\n",
    "                break\n",
    "            \n",
    "            # add in child\n",
    "            parent.add_child(newnode)\n",
    "            \n",
    "            # add to list of nodes\n",
    "            treenodes.append(newnode)\n",
    "            \n",
    "        # check if all deepest nodes are leaves\n",
    "        if len([node for node in treenodes if not node.has_children and not node.is_leaf]) == 0:\n",
    "            break\n",
    "\n",
    "    return treenodes"
   ]
  },
  {
   "cell_type": "code",
   "execution_count": 41,
   "id": "627ab42b",
   "metadata": {},
   "outputs": [],
   "source": [
    "Xdata = {\n",
    "    \"x\": [1.0, 3.4, 5.6, 1.2, 3.7, 5.4, 7.8],\n",
    "    \"y\": [-2.3, 3.2, -4.5, 1.5, 3.8, 4.3, 10.5],\n",
    "    \"type\": [\"A\", \"B\", \"B\", \"B\", \"A\", \"A\", \"B\"],\n",
    "}\n",
    "\n",
    "X = pd.DataFrame(Xdata)"
   ]
  },
  {
   "cell_type": "code",
   "execution_count": 88,
   "id": "26670344",
   "metadata": {},
   "outputs": [],
   "source": [
    "tree = build_tree(X, \"type\", min_leaf_points=5)"
   ]
  },
  {
   "cell_type": "code",
   "execution_count": 89,
   "id": "a5ca7f90",
   "metadata": {},
   "outputs": [
    {
     "data": {
      "text/plain": [
       "[Leaf: target class='B', Leaf: target class='A']"
      ]
     },
     "execution_count": 89,
     "metadata": {},
     "output_type": "execute_result"
    }
   ],
   "source": [
    "tree"
   ]
  },
  {
   "cell_type": "code",
   "execution_count": 79,
   "id": "35980b83",
   "metadata": {},
   "outputs": [],
   "source": [
    "y = X[\"type\"]"
   ]
  },
  {
   "cell_type": "code",
   "execution_count": 84,
   "id": "c0a998fa",
   "metadata": {},
   "outputs": [
    {
     "data": {
      "text/plain": [
       "3"
      ]
     },
     "execution_count": 84,
     "metadata": {},
     "output_type": "execute_result"
    }
   ],
   "source": [
    "np.sum(y == \"A\")"
   ]
  },
  {
   "cell_type": "code",
   "execution_count": 2,
   "id": "37eac789",
   "metadata": {},
   "outputs": [],
   "source": [
    "from sklearn.datasets import load_iris"
   ]
  },
  {
   "cell_type": "code",
   "execution_count": 14,
   "id": "779542cd",
   "metadata": {},
   "outputs": [],
   "source": [
    "data = load_iris(as_frame=True, return_X_y=True)"
   ]
  },
  {
   "cell_type": "code",
   "execution_count": 25,
   "id": "fb4e4da6",
   "metadata": {},
   "outputs": [],
   "source": [
    "X = data[0]\n",
    "X[\"type\"] = pd.Series(data[1])"
   ]
  },
  {
   "cell_type": "code",
   "execution_count": 29,
   "id": "3a274f7f",
   "metadata": {},
   "outputs": [],
   "source": [
    "tree = build_tree(X, \"type\")"
   ]
  },
  {
   "cell_type": "code",
   "execution_count": 30,
   "id": "3a5d447b",
   "metadata": {},
   "outputs": [
    {
     "data": {
      "text/plain": [
       "[Node:\n",
       " \tleft: petal length (cm) <= 1.9\n",
       " \tright: petal length (cm) > 1.9,\n",
       " Leaf: target class='0',\n",
       " Node:\n",
       " \tleft: petal width (cm) <= 1.7\n",
       " \tright: petal width (cm) > 1.7,\n",
       " Node:\n",
       " \tleft: petal length (cm) <= 4.9\n",
       " \tright: petal length (cm) > 4.9,\n",
       " Leaf: target class='2',\n",
       " Leaf: target class='1',\n",
       " Leaf: target class='2',\n",
       " Leaf: target class='1']"
      ]
     },
     "execution_count": 30,
     "metadata": {},
     "output_type": "execute_result"
    }
   ],
   "source": [
    "tree"
   ]
  },
  {
   "cell_type": "code",
   "execution_count": 42,
   "id": "90fc3a56",
   "metadata": {},
   "outputs": [
    {
     "data": {
      "text/plain": [
       "DecisionTreeClassifier(criterion='entropy', min_samples_leaf=4)"
      ]
     },
     "execution_count": 42,
     "metadata": {},
     "output_type": "execute_result"
    }
   ],
   "source": [
    "from sklearn.tree import DecisionTreeClassifier\n",
    "\n",
    "sktree = DecisionTreeClassifier(criterion=\"entropy\", min_samples_leaf=4)\n",
    "\n",
    "sktree.fit(data[0], X[\"type\"])"
   ]
  },
  {
   "cell_type": "code",
   "execution_count": 44,
   "id": "5c13dc68",
   "metadata": {},
   "outputs": [
    {
     "data": {
      "text/plain": [
       "3"
      ]
     },
     "execution_count": 44,
     "metadata": {},
     "output_type": "execute_result"
    }
   ],
   "source": [
    "sktree.get_n_leaves()"
   ]
  },
  {
   "cell_type": "code",
   "execution_count": 41,
   "id": "7971e4cd",
   "metadata": {},
   "outputs": [
    {
     "data": {
      "text/plain": [
       "2"
      ]
     },
     "execution_count": 41,
     "metadata": {},
     "output_type": "execute_result"
    }
   ],
   "source": [
    "tree[4].depth"
   ]
  },
  {
   "cell_type": "code",
   "execution_count": null,
   "id": "c3ace868",
   "metadata": {},
   "outputs": [],
   "source": []
  }
 ],
 "metadata": {
  "kernelspec": {
   "display_name": "GWOSC tutorial",
   "language": "python",
   "name": "gwosc-tutorial"
  },
  "language_info": {
   "codemirror_mode": {
    "name": "ipython",
    "version": 3
   },
   "file_extension": ".py",
   "mimetype": "text/x-python",
   "name": "python",
   "nbconvert_exporter": "python",
   "pygments_lexer": "ipython3",
   "version": "3.8.12"
  }
 },
 "nbformat": 4,
 "nbformat_minor": 5
}
